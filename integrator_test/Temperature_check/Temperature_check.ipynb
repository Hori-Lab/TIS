{
 "cells": [
  {
   "cell_type": "markdown",
   "metadata": {},
   "source": [
    "# UUUU"
   ]
  },
  {
   "cell_type": "code",
   "execution_count": 1,
   "metadata": {},
   "outputs": [],
   "source": [
    "NTRIAL = 5"
   ]
  },
  {
   "cell_type": "code",
   "execution_count": 2,
   "metadata": {},
   "outputs": [],
   "source": [
    "testcases = ((0.05, 0.00001),\n",
    "             (0.04, 0.00001),\n",
    "             (0.02, 0.00001),\n",
    "             (0.01, 0.00001),\n",
    "             (0.005, 0.00001),\n",
    "             (0.002, 0.00001),\n",
    "             (0.001, 0.00001),\n",
    "             (0.05, 0.000015),\n",
    "             (0.04, 0.000015),)"
   ]
  },
  {
   "cell_type": "code",
   "execution_count": 3,
   "metadata": {},
   "outputs": [],
   "source": [
    "import os\n",
    "\n",
    "for tc in testcases:\n",
    "    \n",
    "    path_tc = \"uuuu_%5.3f_%8.6f\" % tc\n",
    "    if not os.path.isdir(path_tc):\n",
    "        os.mkdir(path_tc)\n",
    "\n",
    "    for itrial in range(NTRIAL):\n",
    "\n",
    "        path = path_tc + \"/%03i\" % itrial\n",
    "        if not os.path.isdir(path):\n",
    "            os.mkdir(path)\n",
    "\n",
    "        fout = open(\"%s/uuuu.inp\" % (path,),'w')\n",
    "        for l in open(\"uuuu_template.inp\"):\n",
    "            l = l.replace(\"##PATH##\", path)\n",
    "            l = l.replace(\"##STEP##\", \"10000000\")\n",
    "            l = l.replace(\"##STEPSIZE##\", \"%f\" % tc[0])\n",
    "            l = l.replace(\"##VISCOSITY##\", \"%f\" % tc[1])\n",
    "            l = l.replace(\"##SEED##\", \"%i\" % (11000 + itrial))\n",
    "            fout.write(l)\n",
    "        fout.close()"
   ]
  },
  {
   "cell_type": "code",
   "execution_count": 6,
   "metadata": {},
   "outputs": [],
   "source": [
    "import subprocess\n",
    "import os\n",
    "\n",
    "for tc in testcases:\n",
    "    \n",
    "    path_tc = \"uuuu_%5.3f_%8.6f\" % tc\n",
    "\n",
    "    for itrial in range(NTRIAL):\n",
    "\n",
    "        path = path_tc + \"/%03i\" % itrial\n",
    "        \n",
    "        fout = open(path+'/out','w')\n",
    "        ferr = open(path+'/err','w')\n",
    "        subprocess.call(['../../md', path+'/uuuu.inp'], stdout=fout, stderr=ferr)\n",
    "        fout.close()\n",
    "        ferr.close()\n",
    "        \n",
    "        # Delete the ts file to save the disc\n",
    "        os.remove(path+'/uuuu.ts')"
   ]
  },
  {
   "cell_type": "code",
   "execution_count": 8,
   "metadata": {},
   "outputs": [],
   "source": [
    "import numpy as np\n",
    "\n",
    "mean_std_trials = {}\n",
    "for tc in testcases:\n",
    "    \n",
    "    path_tc = \"uuuu_%5.3f_%8.6f\" % tc\n",
    "\n",
    "    trials = []\n",
    "    for itrial in range(NTRIAL):\n",
    "        \n",
    "        path = path_tc + \"/%03i\" % itrial\n",
    "        \n",
    "        dk = []\n",
    "        dc = []\n",
    "        dc_com = []\n",
    "        for l in open(path+'/uuuu.T'):\n",
    "            lsp = l.split()\n",
    "            Tk = float(lsp[1])\n",
    "            Tc = float(lsp[2])\n",
    "            Tc_com = float(lsp[3])\n",
    "            dk.append(Tk)\n",
    "            dc.append(Tc)\n",
    "            dc_com.append(Tc_com)\n",
    "            \n",
    "        trials.append(((np.mean(dk), np.mean(dc), np.mean(dc_com)),\n",
    "                      (np.std(dk), np.std(dc), np.std(dc_com))))\n",
    "    \n",
    "    mean_std_trials[tc] = trials"
   ]
  },
  {
   "cell_type": "code",
   "execution_count": 24,
   "metadata": {
    "scrolled": false
   },
   "outputs": [
    {
     "data": {
      "text/plain": [
       "{(0.05, 1e-05): [(284.2895457141996, 70.00946643756077),\n",
       "  (284.2681567168, 69.91329380438005),\n",
       "  (284.2168534783003, 69.92358304051892),\n",
       "  (284.1819150145, 69.96156005414684),\n",
       "  (284.19320247200045, 70.04654926266605)],\n",
       " (0.04, 1e-05): [(287.49092756239986, 70.77354484848199),\n",
       "  (287.51313879089963, 70.69624272093198),\n",
       "  (287.43243328669996, 70.72264840775796),\n",
       "  (287.3952808032995, 70.7108483184556),\n",
       "  (287.4137746522003, 70.84784297272736)],\n",
       " (0.02, 1e-05): [(293.87058087949987, 72.29123733861927),\n",
       "  (293.85232493230046, 72.30038356935586),\n",
       "  (293.8022733332996, 72.30279610133121),\n",
       "  (293.84118502129996, 72.23988347964763),\n",
       "  (293.7133735757002, 72.43350527928588)],\n",
       " (0.01, 1e-05): [(297.0807143947998, 73.08593892401294),\n",
       "  (297.0015808966999, 73.14615519660049),\n",
       "  (296.84561887909973, 73.02401426497185),\n",
       "  (296.8883735684, 73.06428172418116),\n",
       "  (296.7004037250997, 73.09502229584629)],\n",
       " (0.005, 1e-05): [(298.71890524909963, 73.47812482410413),\n",
       "  (298.73612797119995, 73.47826781219555),\n",
       "  (298.32079827799964, 73.35429208349944),\n",
       "  (298.2940493289002, 73.40043435481587),\n",
       "  (298.04384600400016, 73.30106672543586)],\n",
       " (0.002, 1e-05): [(299.8136521728997, 73.852919486812),\n",
       "  (299.88541278639985, 73.67270040046635),\n",
       "  (299.3495095536001, 73.77770660134972),\n",
       "  (299.20469158910043, 73.7561450699755),\n",
       "  (298.42085687820014, 73.03947377400978)],\n",
       " (0.001, 1e-05): [(299.7813826333998, 73.63074369834868),\n",
       "  (300.4173646806999, 73.66511384924193),\n",
       "  (299.92623505979964, 74.26695346220599),\n",
       "  (299.4878009813995, 73.93419630546502),\n",
       "  (298.3647181574005, 73.12620498749934)],\n",
       " (0.05, 1.5e-05): [(284.2895457141996, 70.00946643756077),\n",
       "  (284.2681567168, 69.91329380438005),\n",
       "  (284.2168534783003, 69.92358304051892),\n",
       "  (284.1819150145, 69.96156005414684),\n",
       "  (284.19320247200045, 70.04654926266605)],\n",
       " (0.04, 1.5e-05): [(287.49092756239986, 70.77354484848199),\n",
       "  (287.51313879089963, 70.69624272093198),\n",
       "  (287.43243328669996, 70.72264840775796),\n",
       "  (287.3952808032995, 70.7108483184556),\n",
       "  (287.4137746522003, 70.84784297272736)]}"
      ]
     },
     "execution_count": 24,
     "metadata": {},
     "output_type": "execute_result"
    }
   ],
   "source": [
    "mean_std_trials"
   ]
  },
  {
   "cell_type": "code",
   "execution_count": 9,
   "metadata": {},
   "outputs": [
    {
     "data": {
      "text/plain": [
       "{(0.05,\n",
       "  1e-05): [((284.28256246359956, 272.9647640456004, 300.2612403623),\n",
       "   (69.97484145396469, 540.539016335498, 594.5929183941471)), ((284.2850514001,\n",
       "    274.77973973180013,\n",
       "    302.25771366870003),\n",
       "   (69.90634666334276,\n",
       "    539.8116120855433,\n",
       "    593.7927732839225)), ((284.23179281100016, 264.25433331650027, 290.67976655070066),\n",
       "   (69.95606044745098,\n",
       "    543.1757228445344,\n",
       "    597.4932953226685)), ((284.1969650988, 268.7422091255002, 295.6164301265),\n",
       "   (69.93399555849291,\n",
       "    539.995191864958,\n",
       "    593.9947107426774)), ((284.1847476812006,\n",
       "    269.07231167010013,\n",
       "    295.97954301230027),\n",
       "   (70.0112373939317, 541.9120420868613, 596.1032460874771))],\n",
       " (0.04,\n",
       "  1e-05): [((287.5171737543999, 275.46744482909986, 303.0141894271998),\n",
       "   (70.76284893213948,\n",
       "    541.5001769497936,\n",
       "    595.6501947166391)), ((287.5030958431003, 279.75667408000004, 307.7323413390996),\n",
       "   (70.69869393465909,\n",
       "    539.9038913485226,\n",
       "    593.8942804258155)), ((287.44578572380016, 262.2336035692999, 288.4569639927996),\n",
       "   (70.73942210010162,\n",
       "    540.4276181652564,\n",
       "    594.4703799874891)), ((287.4284857996005, 261.0849086414996, 287.1933996729996),\n",
       "   (70.711510215631,\n",
       "    539.2968440226439,\n",
       "    593.226528709102)), ((287.41434622620045, 268.2888187602999, 295.11770059500014),\n",
       "   (70.8107779165956, 536.995248404323, 590.6947730976741))],\n",
       " (0.02,\n",
       "  1e-05): [((293.89721600130036, 281.7803731004006, 309.9584105221996),\n",
       "   (72.30206776064287,\n",
       "    543.5872664387734,\n",
       "    597.9459931141671)), ((293.88509680009975, 269.02164050220006, 295.9238044657004),\n",
       "   (72.2994995252863,\n",
       "    536.1398642363362,\n",
       "    589.7538504801112)), ((293.77962460370065, 259.0106543506001, 284.9117196296998),\n",
       "   (72.26969974831786,\n",
       "    540.484553308154,\n",
       "    594.5330087496258)), ((293.7991663517998, 275.1903472665, 302.70938184280027),\n",
       "   (72.25968902461987,\n",
       "    531.5470130050478,\n",
       "    584.7017142486593)), ((293.7188484927, 265.99208274470004, 292.5912911346007),\n",
       "   (72.3841311620368, 540.7842620883647, 594.8626884271289))],\n",
       " (0.01,\n",
       "  1e-05): [((297.0161013559002, 281.86067751030015, 310.04674538329897),\n",
       "   (73.03404609878005,\n",
       "    549.4048084140632,\n",
       "    604.3452890527417)), ((297.09768859149955, 263.3036397880998, 289.63400380789983),\n",
       "   (73.13260425857942,\n",
       "    533.9448629542351,\n",
       "    587.3393493319123)), ((296.85131975949986, 268.16995363180024, 294.9869490637001),\n",
       "   (73.0038892906302,\n",
       "    542.6101993133262,\n",
       "    596.8712188289893)), ((296.8948481752001, 261.9880320564004, 288.1868351732998),\n",
       "   (73.02457646730161,\n",
       "    535.841532448246,\n",
       "    589.42568562692)), ((296.71477490020027, 266.89475675090034, 293.5842323025002),\n",
       "   (73.13492443757038, 538.3879558101165, 592.2267511511582))],\n",
       " (0.005,\n",
       "  1e-05): [((298.7097956779002, 289.02922272880016, 317.9321450297002),\n",
       "   (73.39485665527863,\n",
       "    549.6758766267193,\n",
       "    604.6434642564033)), ((298.7910896663001, 273.2332058334001, 300.5565264035997),\n",
       "   (73.58683751968275,\n",
       "    542.6557434707732,\n",
       "    596.9213177356404)), ((298.38610052850015, 276.3531003586998, 303.98841019590014),\n",
       "   (73.40893574899387,\n",
       "    550.988795730475,\n",
       "    606.0876751086956)), ((298.36938812259984, 264.3584144630004, 290.79425583849957),\n",
       "   (73.49447054212287,\n",
       "    527.4084569745235,\n",
       "    580.149302685988)), ((298.0413180478001, 260.2887959631003, 286.31767561170005),\n",
       "   (73.2023473097172, 535.443938869545, 588.9883326486007))],\n",
       " (0.002,\n",
       "  1e-05): [((299.6907577670003, 288.63180704399986, 317.49498783879994),\n",
       "   (73.64555295229643,\n",
       "    545.1996497380677,\n",
       "    599.7196145649708)), ((299.98070843540023, 284.62463132110025, 313.08709444840025),\n",
       "   (73.77347950962732,\n",
       "    535.5157993126709,\n",
       "    589.0673791558571)), ((299.5125601665001, 272.2798781153996, 299.50786623849984),\n",
       "   (73.79082488174267,\n",
       "    538.2666324801571,\n",
       "    592.0932957638688)), ((299.23921831860036, 281.7746475804998, 309.9521123881003),\n",
       "   (74.02299691354264,\n",
       "    522.1712497443312,\n",
       "    574.388374689512)), ((298.5322481344001, 230.55723084359988, 253.61295381630026),\n",
       "   (73.12571611992543, 517.5963764941897, 569.3560142842744))],\n",
       " (0.001,\n",
       "  1e-05): [((299.80158698379995, 291.7598151244999, 320.93579654199993),\n",
       "   (73.6133390304851,\n",
       "    548.7855552741368,\n",
       "    603.6641107490074)), ((300.56289939230055, 263.0305331071001, 289.3335863359002),\n",
       "   (73.81183771786878,\n",
       "    532.0012651418754,\n",
       "    585.2013915763271)), ((300.13137981989996, 275.02466637510054, 302.527132905),\n",
       "   (74.04750497794014,\n",
       "    541.1952675775826,\n",
       "    595.3147939616192)), ((299.6701449953999, 257.55751885969994, 283.31327066840015),\n",
       "   (74.12415174150368,\n",
       "    523.4582697266954,\n",
       "    575.8040964921889)), ((298.5451598175997, 251.40457825989972, 276.54503636309977),\n",
       "   (73.34048492013659, 531.6103174159434, 584.7713493527663))],\n",
       " (0.05,\n",
       "  1.5e-05): [((284.28256246359956, 272.9647640456004, 300.2612403623),\n",
       "   (69.97484145396469, 540.539016335498, 594.5929183941471)), ((284.2850514001,\n",
       "    274.77973973180013,\n",
       "    302.25771366870003),\n",
       "   (69.90634666334276,\n",
       "    539.8116120855433,\n",
       "    593.7927732839225)), ((284.23179281100016, 264.25433331650027, 290.67976655070066),\n",
       "   (69.95606044745098,\n",
       "    543.1757228445344,\n",
       "    597.4932953226685)), ((284.1969650988, 268.7422091255002, 295.6164301265),\n",
       "   (69.93399555849291,\n",
       "    539.995191864958,\n",
       "    593.9947107426774)), ((284.1847476812006,\n",
       "    269.07231167010013,\n",
       "    295.97954301230027),\n",
       "   (70.0112373939317, 541.9120420868613, 596.1032460874771))],\n",
       " (0.04,\n",
       "  1.5e-05): [((287.5171737543999, 275.46744482909986, 303.0141894271998),\n",
       "   (70.76284893213948,\n",
       "    541.5001769497936,\n",
       "    595.6501947166391)), ((287.5030958431003, 279.75667408000004, 307.7323413390996),\n",
       "   (70.69869393465909,\n",
       "    539.9038913485226,\n",
       "    593.8942804258155)), ((287.44578572380016, 262.2336035692999, 288.4569639927996),\n",
       "   (70.73942210010162,\n",
       "    540.4276181652564,\n",
       "    594.4703799874891)), ((287.4284857996005, 261.0849086414996, 287.1933996729996),\n",
       "   (70.711510215631,\n",
       "    539.2968440226439,\n",
       "    593.226528709102)), ((287.41434622620045, 268.2888187602999, 295.11770059500014),\n",
       "   (70.8107779165956, 536.995248404323, 590.6947730976741))]}"
      ]
     },
     "execution_count": 9,
     "metadata": {},
     "output_type": "execute_result"
    }
   ],
   "source": [
    "mean_std_trials"
   ]
  },
  {
   "cell_type": "code",
   "execution_count": 10,
   "metadata": {},
   "outputs": [
    {
     "data": {
      "text/html": [
       "<style>.container { width:80% !important; }</style>"
      ],
      "text/plain": [
       "<IPython.core.display.HTML object>"
      ]
     },
     "metadata": {},
     "output_type": "display_data"
    }
   ],
   "source": [
    "\n",
    "from IPython.core.display import display, HTML \n",
    "display(HTML(\"<style>.container { width:80% !important; }</style>\")) \n",
    "\n",
    "import matplotlib\n",
    "import matplotlib.pyplot as plt\n",
    "from matplotlib.colors import LogNorm\n",
    "import matplotlib.patches as mpatches\n",
    "import numpy as np\n",
    "\n",
    "plt.rc('text', usetex=True)  # To use bold font in LaTex\n",
    "plt.rcParams['text.latex.preamble']=[r\"\\usepackage{amsmath}\"] #To use bold font in LaTex\n",
    "plt.rcParams['figure.autolayout']=True\n",
    "plt.rcParams['figure.figsize'] = 4, 3\n",
    "plt.rcParams['figure.dpi'] = 300\n",
    "plt.rcParams['font.family'] ='sans-serif' #使用するフォントファミリー\n",
    "plt.rcParams['font.serif'] = ['Tahoma']\n",
    "plt.rcParams['font.sans-serif'] = ['Arial', 'Helvetica']  #使用するフォント(探す順序)\n",
    "plt.rcParams['xtick.direction'] = 'in' #x軸の目盛線が内向き('in')か外向き('out')か双方向か('inout')\n",
    "plt.rcParams['ytick.direction'] = 'in' #y軸の目盛線が内向き('in')か外向き('out')か双方向か('inout')\n",
    "plt.rcParams['xtick.major.width'] = 1.0 #x軸主目盛り線の線幅\n",
    "plt.rcParams['ytick.major.width'] = 1.0 #y軸主目盛り線の線幅\n",
    "plt.rcParams['font.size'] = 8 #フォントの大きさ\n",
    "plt.rcParams['axes.linewidth'] = 1.0 # 軸の線幅edge linewidth。囲みの太さ\n",
    "plt.rcParams['savefig.dpi'] = 300\n",
    "plt.rcParams['savefig.bbox'] = 'tight'\n",
    "plt.rcParams['savefig.pad_inches'] = 0.05\n",
    "plt.rcParams['savefig.transparent'] = True"
   ]
  },
  {
   "cell_type": "code",
   "execution_count": 11,
   "metadata": {},
   "outputs": [
    {
     "data": {
      "text/plain": [
       "Text(0, 0.5, 'Kinetic temperature')"
      ]
     },
     "execution_count": 11,
     "metadata": {},
     "output_type": "execute_result"
    },
    {
     "name": "stderr",
     "output_type": "stream",
     "text": [
      "/home/hori/anaconda3/lib/python3.7/site-packages/matplotlib/font_manager.py:1241: UserWarning: findfont: Font family ['sans-serif'] not found. Falling back to DejaVu Sans.\n",
      "  (prop.get_family(), self.defaultFamily[fontext]))\n",
      "/home/hori/anaconda3/lib/python3.7/site-packages/matplotlib/font_manager.py:1241: UserWarning: findfont: Font family ['sans-serif'] not found. Falling back to DejaVu Sans.\n",
      "  (prop.get_family(), self.defaultFamily[fontext]))\n",
      "/home/hori/anaconda3/lib/python3.7/site-packages/matplotlib/figure.py:2369: UserWarning: This figure includes Axes that are not compatible with tight_layout, so results might be incorrect.\n",
      "  warnings.warn(\"This figure includes Axes that are not compatible \"\n"
     ]
    },
    {
     "data": {
      "image/png": "[encoded data removed]",
      "text/plain": [
       "<Figure size 432x288 with 1 Axes>"
      ]
     },
     "metadata": {
      "needs_background": "light"
     },
     "output_type": "display_data"
    }
   ],
   "source": [
    "fig, axs = plt.subplots(1,1)\n",
    "\n",
    "ax = axs\n",
    "\n",
    "ax.plot()\n",
    "\n",
    "viscs = set()\n",
    "for tc in testcases:\n",
    "    if tc[1] not in viscs:\n",
    "        viscs.add(tc[1])\n",
    "    \n",
    "for visc in viscs:\n",
    "    \n",
    "    time_step_sizes = []\n",
    "    mean_Tks = []\n",
    "    std_Tks = []\n",
    "    mean_Tcs = []\n",
    "    std_Tcs = []\n",
    "    mean_Tc_coms = []\n",
    "    std_Tc_coms = []\n",
    "    \n",
    "    for tc in testcases:\n",
    "        if tc[1] != visc:\n",
    "            continue\n",
    "        \n",
    "        trials = mean_std_trials[tc]\n",
    "        \n",
    "        Tk_m = np.mean([t[0][0] for t in trials])\n",
    "        Tk_s = np.mean([t[1][0] for t in trials])\n",
    "        \n",
    "        Tc_m = np.mean([t[0][1] for t in trials])\n",
    "        Tc_s = np.mean([t[1][1] for t in trials])\n",
    "        \n",
    "        Tc_com_m = np.mean([t[0][2] for t in trials])\n",
    "        Tc_com_s = np.mean([t[1][2] for t in trials])\n",
    "    \n",
    "        time_step_sizes.append(tc[0])\n",
    "        mean_Tks.append(Tk_m)\n",
    "        std_Tks.append(Tk_s)\n",
    "        mean_Tcs.append(Tc_m)\n",
    "        std_Tcs.append(Tc_s)\n",
    "        mean_Tc_coms.append(Tc_com_m)\n",
    "        std_Tc_coms.append(Tc_com_s)\n",
    "    \n",
    "    ax.plot(time_step_sizes, mean_Tks, '-o', label='%f' % visc)\n",
    "    ax.plot(time_step_sizes, mean_Tcs, '-x', label='%f' % visc)\n",
    "    ax.plot(time_step_sizes, mean_Tc_coms, '-^', label='%f' % visc)\n",
    "    \n",
    "ax.set_xscale('log')\n",
    "ax.set_xticks([0.001, 0.01, 0.1])\n",
    "ax.get_xaxis().set_major_formatter(matplotlib.ticker.ScalarFormatter()) # This set ticklabels automatically.\n",
    "#ax.set_xticklabels(('0.1','1','10')) # If you want to set labels manually.\n",
    "\n",
    "ax.legend()\n",
    "\n",
    "ax.set_xlabel(r'$\\delta t$', fontsize=12)\n",
    "ax.set_ylabel(r'Kinetic temperature', fontsize=12)"
   ]
  },
  {
   "cell_type": "markdown",
   "metadata": {},
   "source": [
    "# Azo"
   ]
  },
  {
   "cell_type": "code",
   "execution_count": 12,
   "metadata": {},
   "outputs": [],
   "source": [
    "NTRIAL = 2"
   ]
  },
  {
   "cell_type": "code",
   "execution_count": 13,
   "metadata": {},
   "outputs": [],
   "source": [
    "testcases = ((0.05, 0.00001),)"
   ]
  },
  {
   "cell_type": "code",
   "execution_count": 14,
   "metadata": {},
   "outputs": [],
   "source": [
    "import os\n",
    "\n",
    "for tc in testcases:\n",
    "    \n",
    "    path_tc = \"azo_%5.3f_%8.6f\" % tc\n",
    "    if not os.path.isdir(path_tc):\n",
    "        os.mkdir(path_tc)\n",
    "\n",
    "    for itrial in range(NTRIAL):\n",
    "\n",
    "        path = path_tc + \"/%03i\" % itrial\n",
    "        if not os.path.isdir(path):\n",
    "            os.mkdir(path)\n",
    "\n",
    "        fout = open(\"%s/azo.inp\" % (path,),'w')\n",
    "        for l in open(\"azo_template.inp\"):\n",
    "            l = l.replace(\"##PATH##\", path)\n",
    "            l = l.replace(\"##STEP##\", \"100000\")\n",
    "            l = l.replace(\"##STEPSIZE##\", \"%f\" % tc[0])\n",
    "            l = l.replace(\"##VISCOSITY##\", \"%f\" % tc[1])\n",
    "            l = l.replace(\"##SEED##\", \"%i\" % (11000 + itrial))\n",
    "            fout.write(l)\n",
    "        fout.close()"
   ]
  },
  {
   "cell_type": "code",
   "execution_count": 15,
   "metadata": {},
   "outputs": [],
   "source": [
    "import subprocess\n",
    "import os\n",
    "\n",
    "for tc in testcases:\n",
    "    \n",
    "    path_tc = \"azo_%5.3f_%8.6f\" % tc\n",
    "\n",
    "    for itrial in range(NTRIAL):\n",
    "\n",
    "        path = path_tc + \"/%03i\" % itrial\n",
    "        \n",
    "        fout = open(path+'/out','w')\n",
    "        ferr = open(path+'/err','w')\n",
    "        subprocess.call(['../../md', path+'/azo.inp'], stdout=fout, stderr=ferr)\n",
    "        fout.close()\n",
    "        ferr.close()\n",
    "        \n",
    "        # Delete the ts file to save the disc\n",
    "        #os.remove(path+'/azo.ts')"
   ]
  },
  {
   "cell_type": "code",
   "execution_count": 17,
   "metadata": {},
   "outputs": [],
   "source": [
    "import numpy as np\n",
    "\n",
    "mean_std_trials = {}\n",
    "for tc in testcases:\n",
    "    \n",
    "    path_tc = \"azo_%5.3f_%8.6f\" % tc\n",
    "\n",
    "    trials = []\n",
    "    for itrial in range(NTRIAL):\n",
    "        \n",
    "        path = path_tc + \"/%03i\" % itrial\n",
    "        \n",
    "        dk = []\n",
    "        dc = []\n",
    "        dc_com = []\n",
    "        for il, l in enumerate(open(path+'/azo.T')):\n",
    "            if il < 1000:\n",
    "                continue\n",
    "            lsp = l.split()\n",
    "            Tk = float(lsp[1])\n",
    "            Tc = float(lsp[2])\n",
    "            Tc_com = float(lsp[3])\n",
    "            dk.append(Tk)\n",
    "            dc.append(Tc)\n",
    "            dc_com.append(Tc_com)\n",
    "            \n",
    "        trials.append(((np.mean(dk), np.mean(dc), np.mean(dc_com)),\n",
    "                      (np.std(dk), np.std(dc), np.std(dc_com))))\n",
    "    \n",
    "    mean_std_trials[tc] = trials"
   ]
  },
  {
   "cell_type": "code",
   "execution_count": 18,
   "metadata": {},
   "outputs": [
    {
     "data": {
      "text/plain": [
       "{(0.05,\n",
       "  1e-05): [((309.6500906565937, 151.4963055216087, 151.60482290856572),\n",
       "   (6.446658799222626,\n",
       "    96.85723204273899,\n",
       "    96.92662229540798)), ((309.24051705366077, 152.52744306188202, 152.63670825463836),\n",
       "   (6.8134833505195544, 116.86728303080096, 116.95099739492045))]}"
      ]
     },
     "execution_count": 18,
     "metadata": {},
     "output_type": "execute_result"
    }
   ],
   "source": [
    "mean_std_trials"
   ]
  },
  {
   "cell_type": "code",
   "execution_count": null,
   "metadata": {},
   "outputs": [],
   "source": []
  }
 ],
 "metadata": {
  "kernelspec": {
   "display_name": "Python 3",
   "language": "python",
   "name": "python3"
  },
  "language_info": {
   "codemirror_mode": {
    "name": "ipython",
    "version": 3
   },
   "file_extension": ".py",
   "mimetype": "text/x-python",
   "name": "python",
   "nbconvert_exporter": "python",
   "pygments_lexer": "ipython3",
   "version": "3.7.3"
  },
  "toc": {
   "base_numbering": 1,
   "nav_menu": {},
   "number_sections": true,
   "sideBar": true,
   "skip_h1_title": false,
   "title_cell": "Table of Contents",
   "title_sidebar": "Contents",
   "toc_cell": false,
   "toc_position": {},
   "toc_section_display": true,
   "toc_window_display": true
  }
 },
 "nbformat": 4,
 "nbformat_minor": 2
}
